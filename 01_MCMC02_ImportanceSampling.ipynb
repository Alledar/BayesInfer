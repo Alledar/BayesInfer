{
 "cells": [
  {
   "cell_type": "markdown",
   "metadata": {
    "collapsed": true,
    "jupyter": {
     "outputs_hidden": true
    }
   },
   "source": [
    "# European call option value\n",
    "* Sea $X\\sim\\log\\mathcal{N}(\\mu,\\sigma^2)$ el precio de un portafolio. Si el precio de un contrato de opción compra estilo europeo es $s$ dólares (strike price); entonces el retorno esperado de tomar el contrato es\n",
    "$$c=\\mathrm{E}\\{\\max(0,X-s)\\}$$\n",
    "\n",
    "## 1. Importar modulos requeridos"
   ]
  },
  {
   "cell_type": "code",
   "execution_count": 1,
   "metadata": {},
   "outputs": [],
   "source": [
    "import numpy as np # Algebra matricial\n",
    "from math import sqrt, exp, log, erf, ceil, pi\n",
    "import matplotlib.pyplot as plt # gráficos\n",
    "from scipy.stats import norm\n",
    "from scipy.special import erfinv\n",
    "import time\n",
    "import random # Simulacion aleatoria\n",
    "random.seed( 0 ) # Fijando la semilla (reproducir resultados)\n",
    "np.random.seed( 0 ) # Fijando la semilla (reproducir resultados)"
   ]
  },
  {
   "cell_type": "markdown",
   "metadata": {},
   "source": [
    "## 2. Definir algunas functiones auxiliares\n",
    "\n",
    "### 2.1. Resultado exacto\n",
    "\n",
    "$$c=\\mathrm{E}\\{\\max(0,X-s)\\}=\\int_{-\\infty}^{\\infty}\\max(0,\\mu-s)\\mathrm{d}\\mu=\\int_{-\\infty}^{s}\\max(0,\\mu-s)\\mathrm{d}\\mu+\\int_{s}^{\\infty}\\max(0,\\mu-s)\\mathrm{d}\\mu$$\n",
    "$$c=\\int_{s}^{\\infty}\\mu\\mathrm{d}\\mu-s\\int_{s}^{\\infty}\\mathrm{d}\\mu=\\left(\\mathrm{E}[X|X\\geq s]-s\\right)(1-CDF(s))$$\n",
    "\n",
    "la esperaza condicional y la CDF de la distribución log-normal es conocida\n",
    "$$\\mathrm{E}[X|X\\geq s]=\\mathrm{e}^{\\mu+\\frac{\\sigma^2}{2}}\\frac{\\Phi\\left(\n",
    "\\frac{\\mu+\\sigma^2-\\log s}{\\sigma}\n",
    "\\right)\n",
    "}{1-\\Phi\\left(\\frac{\\log s - \\mu}{\\sigma}\\right)}\\text{ y }CDF(s)=\\Phi\\left(\\frac{\\log s - \\mu}{\\sigma}\\right)$$\n"
   ]
  },
  {
   "cell_type": "code",
   "execution_count": 2,
   "metadata": {},
   "outputs": [],
   "source": [
    "def value_call(mu,sigma2,strike):\n",
    "    ax1 = norm.cdf( ( mu+sigma2-log(strike) )/sqrt(sigma2) )\n",
    "    CDF = norm.cdf( ( log(strike)-mu )/sqrt(sigma2) )\n",
    "    EX_S = exp( mu+sigma2/2 )*( ax1/( 1-CDF ) )\n",
    "    \n",
    "    return (EX_S-strike)*(1 - CDF)"
   ]
  },
  {
   "cell_type": "markdown",
   "metadata": {},
   "source": [
    "### 2.2. Monte Carlo simulation"
   ]
  },
  {
   "cell_type": "code",
   "execution_count": 3,
   "metadata": {},
   "outputs": [],
   "source": [
    "def mc_call(mu,sigma2,strike,nsample):\n",
    "    r = np.random.normal(0,1,(nsample,1))\n",
    "    x = np.exp(sqrt(sigma2)*r+mu)\n",
    "    c_vec = np.maximum(0,x-strike)\n",
    "    return np.mean(c_vec)"
   ]
  },
  {
   "cell_type": "markdown",
   "metadata": {},
   "source": [
    "## 3. Ejercicios\n",
    "\n",
    "Considere $\\mu=5$ y $\\sigma^2=0.1$"
   ]
  },
  {
   "cell_type": "code",
   "execution_count": 4,
   "metadata": {},
   "outputs": [],
   "source": [
    "mu=5\n",
    "sigma2=0.1"
   ]
  },
  {
   "cell_type": "markdown",
   "metadata": {},
   "source": [
    "## Strike = 110\n",
    "\n",
    "* ¿Cuál es el valor de la opción?\n",
    "* Según la formula presentada en clase, ¿cuánto es un valor razonable para el tamaño de muestra?\n",
    "* ¿Qué tan buena es la aproximación de Monte Carlo para $n\\in\\{10, 10^2, 10^3, 10^4, 10^5, 10^6\\}?"
   ]
  },
  {
   "cell_type": "code",
   "execution_count": 5,
   "metadata": {},
   "outputs": [
    {
     "name": "stdout",
     "output_type": "stream",
     "text": [
      "Valor real de la opción: 48.813\n"
     ]
    }
   ],
   "source": [
    "strike = 110\n",
    "valor_opcion = value_call(mu,sigma2,strike)\n",
    "print('Valor real de la opción: %1.3f' %valor_opcion)"
   ]
  },
  {
   "cell_type": "code",
   "execution_count": 6,
   "metadata": {},
   "outputs": [
    {
     "name": "stdout",
     "output_type": "stream",
     "text": [
      "Minimum sample size for 5.00% confidence level and precision of 0.01STDs: 38415\n",
      "Approx. con 38415 simulaciones: 48.501, error: 0.63828%, tiempo de cálculo: 0.00200\n"
     ]
    }
   ],
   "source": [
    "Alpha = 0.05\n",
    "Epsilon = 0.01\n",
    "min_sample = ceil(2*(erfinv(1-Alpha)/Epsilon)**2)\n",
    "print(\"Minimum sample size for %1.2f%% confidence level and precision of %1.2fSTDs: %1d\" \n",
    "      %(100*Alpha,Epsilon,min_sample))\n",
    "\n",
    "start_time = time.time()\n",
    "app_opcion = mc_call(mu,sigma2,strike,min_sample)\n",
    "end_time = time.time()\n",
    "Error = abs(100*(app_opcion-valor_opcion)/valor_opcion)\n",
    "print(\"Approx. con %1d simulaciones: %2.3f, error: %2.5f%%, tiempo de cálculo: %1.5f\" \n",
    "      %(min_sample,app_opcion,Error,end_time-start_time))"
   ]
  },
  {
   "cell_type": "code",
   "execution_count": 7,
   "metadata": {},
   "outputs": [
    {
     "name": "stdout",
     "output_type": "stream",
     "text": [
      "Approx. con 10^1 simulaciones: 86.383, error: 76.96917%, tiempo de cálculo: 0.00000\n",
      "Approx. con 10^2 simulaciones: 50.370, error: 3.19111%, tiempo de cálculo: 0.00000\n",
      "Approx. con 10^3 simulaciones: 45.751, error: 6.27171%, tiempo de cálculo: 0.00100\n",
      "Approx. con 10^4 simulaciones: 48.176, error: 1.30350%, tiempo de cálculo: 0.00000\n",
      "Approx. con 10^5 simulaciones: 48.957, error: 0.29628%, tiempo de cálculo: 0.00585\n",
      "Approx. con 10^6 simulaciones: 48.850, error: 0.07727%, tiempo de cálculo: 0.08657\n"
     ]
    }
   ],
   "source": [
    "random.seed( 0 ) # Fijando la semilla (reproducir resultados)\n",
    "np.random.seed( 0 ) # Fijando la semilla (reproducir resultados)\n",
    "for ii in range(6):\n",
    "    start_time = time.time()\n",
    "    app_opcion = mc_call(mu,sigma2,strike,10**(1+ii))\n",
    "    end_time = time.time()\n",
    "    Error = abs(100*(app_opcion-valor_opcion)/valor_opcion)\n",
    "    print(\"Approx. con 10^%1d simulaciones: %2.3f, error: %2.5f%%, tiempo de cálculo: %1.5f\" \n",
    "          %(1+ii,app_opcion,Error,end_time-start_time))"
   ]
  },
  {
   "cell_type": "markdown",
   "metadata": {},
   "source": [
    "## Strike = 300\n",
    "\n",
    "* ¿Cuál es el valor de la opción?\n",
    "* Según la formula presentada en clase, ¿cuánto es un valor razonable para el tamaño de muestra?\n",
    "* ¿Qué tan buena es la aproximación de Monte Carlo para $n\\in\\{10, 10^2, 10^3, 10^4, 10^5, 10^6\\}?"
   ]
  },
  {
   "cell_type": "code",
   "execution_count": 8,
   "metadata": {},
   "outputs": [
    {
     "name": "stdout",
     "output_type": "stream",
     "text": [
      "Valor real de la opción: 0.479\n"
     ]
    }
   ],
   "source": [
    "strike = 300\n",
    "valor_opcion = value_call(mu,sigma2,strike)\n",
    "print(\"Valor real de la opción: %1.3f\" %valor_opcion)"
   ]
  },
  {
   "cell_type": "code",
   "execution_count": 9,
   "metadata": {},
   "outputs": [
    {
     "name": "stdout",
     "output_type": "stream",
     "text": [
      "Approx. con 38415 simulaciones: 0.470, error: 1.97120%, tiempo de cálculo: 0.00100\n"
     ]
    }
   ],
   "source": [
    "start_time = time.time()\n",
    "app_opcion = mc_call(mu,sigma2,strike,min_sample)\n",
    "end_time = time.time()\n",
    "Error = abs(100*(app_opcion-valor_opcion)/valor_opcion)\n",
    "print(\"Approx. con %1d simulaciones: %2.3f, error: %2.5f%%, tiempo de cálculo: %1.5f\" \n",
    "      %(min_sample,app_opcion,Error,end_time-start_time))"
   ]
  },
  {
   "cell_type": "code",
   "execution_count": 10,
   "metadata": {},
   "outputs": [
    {
     "name": "stdout",
     "output_type": "stream",
     "text": [
      "Approx. con 10^1 simulaciones: 0.146, error: 69.56093%, tiempo de cálculo: 0.00151\n",
      "Approx. con 10^2 simulaciones: 0.042, error: 91.18806%, tiempo de cálculo: 0.00000\n",
      "Approx. con 10^3 simulaciones: 0.357, error: 25.48856%, tiempo de cálculo: 0.00000\n",
      "Approx. con 10^4 simulaciones: 0.459, error: 4.22243%, tiempo de cálculo: 0.00101\n",
      "Approx. con 10^5 simulaciones: 0.492, error: 2.61096%, tiempo de cálculo: 0.00300\n",
      "Approx. con 10^6 simulaciones: 0.481, error: 0.33530%, tiempo de cálculo: 0.04512\n"
     ]
    }
   ],
   "source": [
    "random.seed( 0 ) # Fijando la semilla (reproducir resultados)\n",
    "np.random.seed( 0 ) # Fijando la semilla (reproducir resultados)\n",
    "for ii in range(6):\n",
    "    start_time = time.time()\n",
    "    app_opcion = mc_call(mu,sigma2,strike,10**(1+ii))\n",
    "    end_time = time.time()\n",
    "    Error = abs(100*(app_opcion-valor_opcion)/valor_opcion)\n",
    "    print(\"Approx. con 10^%1d simulaciones: %2.3f, error: %2.5f%%, tiempo de cálculo: %1.5f\" \n",
    "          %(1+ii,app_opcion,Error,end_time-start_time))"
   ]
  },
  {
   "cell_type": "markdown",
   "metadata": {},
   "source": [
    "## 4. Mejorar la calidad de la simulación MC\n",
    "\n",
    "### 4.1. Usando antitéticos\n",
    "\n",
    "Crear la función que transforma la simulación"
   ]
  },
  {
   "cell_type": "code",
   "execution_count": 11,
   "metadata": {},
   "outputs": [],
   "source": [
    "def normal_antithetic(x,mu): return 2*mu-x"
   ]
  },
  {
   "cell_type": "markdown",
   "metadata": {},
   "source": [
    "Adaptemos la función ```mc_call()```"
   ]
  },
  {
   "cell_type": "code",
   "execution_count": 12,
   "metadata": {},
   "outputs": [],
   "source": [
    "def mc_call_anthitetic(mu,sigma2,strike,nsample):\n",
    "    nsample = ceil(nsample/2)\n",
    "    r0 = np.random.normal(0,1,(nsample,1))\n",
    "    r1 = normal_antithetic(r0,0)\n",
    "    rr = np.r_[r0,r1]\n",
    "    x = np.exp(sqrt(sigma2)*rr+mu)\n",
    "    c_vec = np.maximum(0,x-strike)\n",
    "    return np.mean(c_vec)"
   ]
  },
  {
   "cell_type": "markdown",
   "metadata": {},
   "source": [
    "Repitamos el ejercicio con $strike=300$"
   ]
  },
  {
   "cell_type": "code",
   "execution_count": 13,
   "metadata": {},
   "outputs": [
    {
     "name": "stdout",
     "output_type": "stream",
     "text": [
      "Approx. con 10^1 simulaciones: 0.146, error: 69.56093%, tiempo de cálculo: 0.00000\n",
      "Approx. con 10^2 simulaciones: 0.370, error: 22.88776%, tiempo de cálculo: 0.00000\n",
      "Approx. con 10^3 simulaciones: 0.350, error: 26.86095%, tiempo de cálculo: 0.00109\n",
      "Approx. con 10^4 simulaciones: 0.390, error: 18.60848%, tiempo de cálculo: 0.00000\n",
      "Approx. con 10^5 simulaciones: 0.507, error: 5.86775%, tiempo de cálculo: 0.00458\n",
      "Approx. con 10^6 simulaciones: 0.475, error: 0.85737%, tiempo de cálculo: 0.05962\n"
     ]
    }
   ],
   "source": [
    "random.seed( 0 ) # Fijando la semilla (reproducir resultados)\n",
    "np.random.seed( 0 ) # Fijando la semilla (reproducir resultados)\n",
    "for ii in range(6):\n",
    "    start_time = time.time()\n",
    "    app_opcion = mc_call_anthitetic(mu,sigma2,strike,10**(1+ii))\n",
    "    end_time = time.time()\n",
    "    Error = abs(100*(app_opcion-valor_opcion)/valor_opcion)\n",
    "    print(\"Approx. con 10^%1d simulaciones: %2.3f, error: %2.5f%%, tiempo de cálculo: %1.5f\" \n",
    "          %(1+ii,app_opcion,Error,end_time-start_time))"
   ]
  },
  {
   "cell_type": "markdown",
   "metadata": {},
   "source": [
    "### 4.2. Importance sampling"
   ]
  },
  {
   "cell_type": "code",
   "execution_count": 14,
   "metadata": {},
   "outputs": [],
   "source": [
    "def fx(x): return (1/sqrt(2*pi))*np.exp(-(x**2/2))\n",
    "def fy(x,u): return (1/sqrt(2*pi))*np.exp(-((x-u)**2/2))\n",
    "def mc_call_impsam(mu,sigma2,strike,nsample):\n",
    "    u = log(strike)-sigma2/2\n",
    "    v = u + np.random.normal(0,1,(nsample,1))\n",
    "    fx_of_v = fx(v)\n",
    "    fy_of_v = fy(v,u)\n",
    "    x_of_v = np.exp(sqrt(sigma2)*v+mu)\n",
    "    c_vec = np.maximum(0,x_of_v-strike)*fx_of_v/fy_of_v\n",
    "    return np.mean(c_vec)"
   ]
  },
  {
   "cell_type": "code",
   "execution_count": 15,
   "metadata": {},
   "outputs": [
    {
     "name": "stdout",
     "output_type": "stream",
     "text": [
      "Approx. con 10^1 simulaciones: 0.001, error: 99.78355%, tiempo de cálculo: 0.00000\n",
      "Approx. con 10^2 simulaciones: 0.238, error: 50.25909%, tiempo de cálculo: 0.00132\n",
      "Approx. con 10^3 simulaciones: 0.492, error: 2.74852%, tiempo de cálculo: 0.00000\n",
      "Approx. con 10^4 simulaciones: 0.408, error: 14.87529%, tiempo de cálculo: 0.00000\n",
      "Approx. con 10^5 simulaciones: 0.514, error: 7.22295%, tiempo de cálculo: 0.00601\n",
      "Approx. con 10^6 simulaciones: 0.480, error: 0.18769%, tiempo de cálculo: 0.12255\n"
     ]
    }
   ],
   "source": [
    "random.seed( 0 ) # Fijando la semilla (reproducir resultados)\n",
    "np.random.seed( 0 ) # Fijando la semilla (reproducir resultados)\n",
    "for ii in range(6):\n",
    "    start_time = time.time()\n",
    "    app_opcion = mc_call_impsam(mu,sigma2,strike,10**(1+ii))\n",
    "    end_time = time.time()\n",
    "    Error = abs(100*(app_opcion-valor_opcion)/valor_opcion)\n",
    "    print(\"Approx. con 10^%1d simulaciones: %2.3f, error: %2.5f%%, tiempo de cálculo: %1.5f\" \n",
    "          %(1+ii,app_opcion,Error,end_time-start_time))"
   ]
  }
 ],
 "metadata": {
  "kernelspec": {
   "display_name": "Python 3 (ipykernel)",
   "language": "python",
   "name": "python3"
  },
  "language_info": {
   "codemirror_mode": {
    "name": "ipython",
    "version": 3
   },
   "file_extension": ".py",
   "mimetype": "text/x-python",
   "name": "python",
   "nbconvert_exporter": "python",
   "pygments_lexer": "ipython3",
   "version": "3.9.18"
  }
 },
 "nbformat": 4,
 "nbformat_minor": 4
}
