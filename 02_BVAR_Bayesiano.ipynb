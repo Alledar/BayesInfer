{
 "cells": [
  {
   "cell_type": "markdown",
   "metadata": {},
   "source": [
    "# VAR Bayesiano (BVAR)\n",
    "Seguiremos a [BGR2010](https://onlinelibrary.wiley.com/doi/abs/10.1002/jae.1137) en su propuesta Large BVAR\n",
    "\n",
    "Los autores introducen el prior de Litterman (o Minnesota Prior) con observación 'dummy' al inicio de la muestra"
   ]
  },
  {
   "cell_type": "code",
   "execution_count": null,
   "metadata": {},
   "outputs": [],
   "source": [
    "import numpy as np # Algebra matricial\n",
    "import datetime as dt\n",
    "import pandas as pd\n",
    "import random # Simulacion aleatoria\n",
    "import matplotlib.pyplot as plt # gráficos\n",
    "import time"
   ]
  },
  {
   "cell_type": "markdown",
   "metadata": {},
   "source": [
    "## Añadir librería creada\n",
    "Añadir la librería creada para esta parte del curso"
   ]
  },
  {
   "cell_type": "code",
   "execution_count": null,
   "metadata": {},
   "outputs": [],
   "source": [
    "!git clone https://github.com/Alledar/BayesInfer.git\n",
    "import sys\n",
    "sys.path.append('/content/BayesInfer/02_Libraries')\n",
    "import VARstuff"
   ]
  },
  {
   "cell_type": "markdown",
   "metadata": {},
   "source": [
    "1. Cargar la data (disponible [aquí](http://qed.econ.queensu.ca/jae/datasets/banbura001/))"
   ]
  },
  {
   "cell_type": "code",
   "execution_count": null,
   "metadata": {},
   "outputs": [],
   "source": [
    "df_raw = pd.read_csv('/content/BayesInfer/03_Inputs/bgrdata.csv')\n",
    "df_info = pd.read_csv('/content/BayesInfer/03_Inputs/info.csv')"
   ]
  },
  {
   "cell_type": "code",
   "execution_count": null,
   "metadata": {},
   "outputs": [],
   "source": [
    "df_raw.head()"
   ]
  },
  {
   "cell_type": "code",
   "execution_count": null,
   "metadata": {},
   "outputs": [],
   "source": [
    "OrderFinal = df_info.Mnemon.values\n",
    "k0 = OrderFinal.size\n",
    "\n",
    "df_ordered = df_raw[OrderFinal].copy()\n",
    "df_ordered.head()"
   ]
  },
  {
   "cell_type": "code",
   "execution_count": null,
   "metadata": {},
   "outputs": [],
   "source": [
    "TakeLog = df_info['Log'].values.astype(bool)\n",
    "for ii in range(k0):\n",
    "    if TakeLog[ii]:\n",
    "        df_ordered[OrderFinal[ii]] = np.log(df_ordered[OrderFinal[ii]])\n",
    "        \n",
    "df_ordered.head()"
   ]
  },
  {
   "cell_type": "code",
   "execution_count": null,
   "metadata": {},
   "outputs": [],
   "source": [
    "df_final = df_ordered.copy()\n",
    "df_info_final = df_info.copy()"
   ]
  },
  {
   "cell_type": "code",
   "execution_count": null,
   "metadata": {},
   "outputs": [],
   "source": [
    "T = df_final.CES002.size\n",
    "T"
   ]
  },
  {
   "cell_type": "code",
   "execution_count": null,
   "metadata": {},
   "outputs": [],
   "source": [
    "\n",
    "H = 12\n",
    "df_estimate = df_final[0:(T-H)].copy()\n",
    "df_eval = df_final[(T-H-1):T].copy()"
   ]
  },
  {
   "cell_type": "markdown",
   "metadata": {},
   "source": [
    "2. Preparando los datos para procedimientos Bayesianos"
   ]
  },
  {
   "cell_type": "code",
   "execution_count": null,
   "metadata": {},
   "outputs": [],
   "source": [
    "lag = 13\n",
    "k = df_final.columns.size\n",
    "data2est = df_estimate.values\n",
    "y,X,k,Tf = VARstuff.get_yXform(data2est,lag)\n",
    "\n",
    "y2e = df_eval.values"
   ]
  },
  {
   "cell_type": "markdown",
   "metadata": {},
   "source": [
    "3. Estimación y pronóstico simple"
   ]
  },
  {
   "cell_type": "code",
   "execution_count": null,
   "metadata": {
    "scrolled": true
   },
   "outputs": [],
   "source": [
    "Bhat,Sigmahat,yhat,uhat = VARstuff.get_MCO_VAR(y,X)\n",
    "Xtp1 = X[Tf-1,:]\n",
    "y_data = y2e\n",
    "y_data_first = y2e[0,:]\n",
    "y_data_first.shape = (1,k)"
   ]
  },
  {
   "cell_type": "code",
   "execution_count": null,
   "metadata": {},
   "outputs": [],
   "source": [
    "u_zero = np.zeros(shape=(H,k))\n",
    "y_zero,_ = VARstuff.get_sim_VAR(Xtp1,u_zero,Bhat,lag)\n",
    "y_zero = np.r_[y_data_first,y_zero]"
   ]
  },
  {
   "cell_type": "markdown",
   "metadata": {},
   "source": [
    "4. Concentremonos en las variables correspondientes a CEE2005"
   ]
  },
  {
   "cell_type": "code",
   "execution_count": null,
   "metadata": {
    "scrolled": true
   },
   "outputs": [],
   "source": [
    "CEEindex0 = df_info_final['CEE'].values.astype(bool)\n",
    "aux0 = CEEindex0.nonzero()\n",
    "CEEindex = aux0[0]\n",
    "CEEname  = df_final.columns[CEEindex0]"
   ]
  },
  {
   "cell_type": "code",
   "execution_count": null,
   "metadata": {},
   "outputs": [],
   "source": [
    "fig, axs = plt.subplots(2,4,figsize=(10,7))\n",
    "ff = 0\n",
    "for rr in range(2):\n",
    "    for cc in range(4):\n",
    "        if ff<7:\n",
    "            axs[rr,cc].plot(y_data[:,CEEindex[ff]],'k')\n",
    "            axs[rr,cc].plot(y_zero[:,CEEindex[ff]],'b')\n",
    "            axs[rr,cc].set_xlabel('Time')\n",
    "            axs[rr,cc].set_title(CEEname[ff])\n",
    "            axs[rr,cc].autoscale(enable=True, axis='both', tight=True)\n",
    "            ff += 1\n",
    "            \n",
    "plt.tight_layout()"
   ]
  },
  {
   "cell_type": "markdown",
   "metadata": {},
   "source": [
    "5. Extendiendo la data con observaciones 'dummy' (BGR2012 sugieren $\\tau=10\\lambda$)"
   ]
  },
  {
   "cell_type": "code",
   "execution_count": null,
   "metadata": {},
   "outputs": [],
   "source": [
    "# Minnesota prior\n",
    "lmbda = 0.035\n",
    "deltas = df_info_final['RW'].values\n",
    "sigmas = VARstuff.get_sigmas(data2est,lag)\n",
    "yd0,Xd0,Td = VARstuff.get_DumObsLitterman(lmbda,deltas,sigmas,lag)\n",
    "\n",
    "# Sum of coefficients prior\n",
    "tau = 10*lmbda\n",
    "mus = np.mean(data2est,0)\n",
    "yd1,Xd1,Td1 = VARstuff.get_DumObsSumCoef(tau, mus, sigmas, lag)\n",
    "\n",
    "# data extended\n",
    "y_star = np.r_[yd0,yd1,y]\n",
    "X_star = np.r_[Xd0,Xd1,X]"
   ]
  },
  {
   "cell_type": "markdown",
   "metadata": {},
   "source": [
    "6. Some posterior moments"
   ]
  },
  {
   "cell_type": "code",
   "execution_count": null,
   "metadata": {},
   "outputs": [],
   "source": [
    "Bayes = True\n",
    "B_post,Sigma_post,_,_ = VARstuff.get_MCO_VAR(y_star,X_star,Bayes)\n",
    "Tf_post,d = X_star.shape\n",
    "Dof_post = Tf_post-k # Tf_post-d ?\n",
    "LT_SS_post = np.linalg.cholesky(Sigma_post)\n",
    "XX_star = np.dot(np.transpose(X_star),X_star)\n",
    "LT_P_post =  VARstuff.get_iXXchol(XX_star)"
   ]
  },
  {
   "cell_type": "markdown",
   "metadata": {},
   "source": [
    "7. Pronóstico simple (como en BGR2010)"
   ]
  },
  {
   "cell_type": "code",
   "execution_count": null,
   "metadata": {},
   "outputs": [],
   "source": [
    "y_zero_m,_ = VARstuff.get_sim_VAR(Xtp1,u_zero,B_post,lag)\n",
    "y_zero_m = np.r_[y_data_first,y_zero_m]"
   ]
  },
  {
   "cell_type": "markdown",
   "metadata": {},
   "source": [
    "8. Pronóstico Bayesiano"
   ]
  },
  {
   "cell_type": "code",
   "execution_count": null,
   "metadata": {},
   "outputs": [],
   "source": [
    "random.seed( 0 )    # Fijando la semilla (reproducir resultados)\n",
    "np.random.seed( 0 ) # Fijando la semilla (reproducir resultados)\n",
    "Fore_BVAR = VARstuff.get_BVARforvast(y_data_first,Xtp1,lag,H,100,1000,B_post,LT_SS_post,LT_P_post,Dof_post)\n",
    "#Fore_BVAR = VARstuff.get_BVARforvast(y_data_first,Xtp1,lag,H,10,100,B_post,LT_SS_post,LT_P_post,Dof_post)"
   ]
  },
  {
   "cell_type": "code",
   "execution_count": null,
   "metadata": {},
   "outputs": [],
   "source": [
    "Fore_BVAR_Q95  = np.percentile(Fore_BVAR, 95, axis=2)\n",
    "Fore_BVAR_Q05  = np.percentile(Fore_BVAR,  5, axis=2)\n",
    "Fore_BVAR_mean = np.mean(Fore_BVAR,axis=2)"
   ]
  },
  {
   "cell_type": "code",
   "execution_count": null,
   "metadata": {},
   "outputs": [],
   "source": [
    "fig, axs = plt.subplots(2,4,figsize=(10,7))\n",
    "ff = 0\n",
    "for rr in range(2):\n",
    "    for cc in range(4):\n",
    "        if ff<7:\n",
    "            axs[rr,cc].plot(y_data[:,CEEindex[ff]],'k')\n",
    "            #axs[rr,cc].plot(y_zero_m[:,CEEindex[ff]],'b')\n",
    "            axs[rr,cc].plot(Fore_BVAR_mean[:,CEEindex[ff]],'g')\n",
    "            #axs[rr,cc].plot(Fore_BVAR_Q95[:,CEEindex[ff]],'r')\n",
    "            #axs[rr,cc].plot(Fore_BVAR_Q05[:,CEEindex[ff]],'r')\n",
    "            axs[rr,cc].set_xlabel('Time')\n",
    "            axs[rr,cc].set_title(CEEname[ff])\n",
    "            axs[rr,cc].autoscale(enable=True, axis='both', tight=True)\n",
    "            ff += 1\n",
    "            \n",
    "plt.tight_layout()"
   ]
  },
  {
   "cell_type": "code",
   "execution_count": null,
   "metadata": {},
   "outputs": [],
   "source": [
    "Ferror_freq = np.linalg.norm(y_data-y_zero)/y_data.size\n",
    "Ferror_simple = np.linalg.norm(y_data-y_zero_m)/y_data.size\n",
    "Ferror_bayes = np.linalg.norm(y_data-Fore_BVAR_mean)/y_data.size\n",
    "print('Freq:')\n",
    "print(Ferror_freq)\n",
    "print('')\n",
    "print('Simple:')\n",
    "print(Ferror_simple)\n",
    "print('Bayes:')\n",
    "print(Ferror_bayes)"
   ]
  },
  {
   "cell_type": "markdown",
   "metadata": {},
   "source": [
    "9. IRF\n",
    "Similar a CEE"
   ]
  },
  {
   "cell_type": "code",
   "execution_count": null,
   "metadata": {},
   "outputs": [],
   "source": [
    "aux0=df_final.columns=='FYFF'\n",
    "aux0 = aux0.nonzero()\n",
    "shock = aux0[0]+1\n",
    "scale = 1"
   ]
  },
  {
   "cell_type": "code",
   "execution_count": null,
   "metadata": {},
   "outputs": [],
   "source": [
    "Bhat, Sigmahat, _, uhat = VARstuff.get_MCO_VAR(y, X)"
   ]
  },
  {
   "cell_type": "code",
   "execution_count": null,
   "metadata": {
    "scrolled": true
   },
   "outputs": [],
   "source": [
    "h=4*12\n",
    "b=1\n",
    "r=50\n",
    "nsample = 50\n",
    "random.seed( 0 )    # Fijando la semilla (reproducir resultados)\n",
    "np.random.seed( 0 ) # Fijando la semilla (reproducir resultados)\n",
    "#IRF = VARstuff.get_IRF_Chol_BT(y_star,X_star,k,Tf,nsample,h,shock,lag,scale)\n",
    "startC = time.time()\n",
    "IRF = VARstuff.get_IRF_Chol_BVAR(lag,h,b,r,B_post,LT_SS_post,LT_P_post,Dof_post,95,scale)\n",
    "endC = time.time()\n",
    "print('Time elapsed:',endC-startC)\n"
   ]
  },
  {
   "cell_type": "code",
   "execution_count": null,
   "metadata": {},
   "outputs": [],
   "source": [
    "IRF_Q95  = np.percentile(IRF, 95, axis=2)\n",
    "IRF_Q05  = np.percentile(IRF,  5, axis=2)\n",
    "IRF_mean = np.mean(IRF,axis=2)"
   ]
  },
  {
   "cell_type": "code",
   "execution_count": null,
   "metadata": {},
   "outputs": [],
   "source": [
    "fig, axs = plt.subplots(3,3)\n",
    "\n",
    "ff = 0\n",
    "for rr in range(3):\n",
    "    for cc in range(3):\n",
    "        if ff<7:\n",
    "            axs[rr,cc].plot(IRF_mean[CEEindex[ff],:]*100)\n",
    "            axs[rr,cc].axhline(0, color='green')\n",
    "            axs[rr,cc].plot(IRF_Q95[CEEindex[ff],:]*100,'r')\n",
    "            axs[rr,cc].plot(IRF_Q05[CEEindex[ff],:]*100,'r')\n",
    "            axs[rr,cc].set_xlabel('Time')\n",
    "            axs[rr,cc].set_ylabel('y')\n",
    "            axs[rr,cc].set_title(CEEname[ff])\n",
    "            axs[rr,cc].autoscale(enable=True, axis='both', tight=True)\n",
    "            ff += 1\n",
    "            \n",
    "#plt.tight_layout()"
   ]
  },
  {
   "cell_type": "code",
   "execution_count": null,
   "metadata": {},
   "outputs": [],
   "source": [
    "np.asarray([VARstuff.Hyper_ML(np.asarray([lmbda-0.01]), X, y, sigmas, deltas), VARstuff.Hyper_ML(np.asarray([lmbda]), X, y, sigmas, deltas), VARstuff.Hyper_ML(np.asarray([lmbda+0.5]), X, y, sigmas, deltas)])"
   ]
  },
  {
   "cell_type": "markdown",
   "metadata": {},
   "source": [
    "# Reference\n",
    "> Banbura, Giannone y Reichlin (2010), *Large Bayesian vector auto regressions*. Journal of Applied Econometrics, John Wiley & Sons, Ltd., vol. 25(1), pages 71-92, January. [https://onlinelibrary.wiley.com/doi/abs/10.1002/jae.1137](https://onlinelibrary.wiley.com/doi/abs/10.1002/jae.1137)\n"
   ]
  }
 ],
 "metadata": {
  "kernelspec": {
   "display_name": "Python 3 (ipykernel)",
   "language": "python",
   "name": "python3"
  },
  "language_info": {
   "codemirror_mode": {
    "name": "ipython",
    "version": 3
   },
   "file_extension": ".py",
   "mimetype": "text/x-python",
   "name": "python",
   "nbconvert_exporter": "python",
   "pygments_lexer": "ipython3",
   "version": "3.9.18"
  }
 },
 "nbformat": 4,
 "nbformat_minor": 4
}
